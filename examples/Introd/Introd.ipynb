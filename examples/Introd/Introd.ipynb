{
 "cells": [
  {
   "attachments": {},
   "cell_type": "markdown",
   "metadata": {},
   "source": [
    "[![image](https://colab.research.google.com/assets/colab-badge.svg)](https://colab.research.google.com/github/lukmanfash/rastvectpy/blob/main/docs/examples/codetesting.ipynb)"
   ]
  },
  {
   "cell_type": "code",
   "execution_count": 1,
   "metadata": {},
   "outputs": [],
   "source": [
    "import rastvectpy"
   ]
  },
  {
   "cell_type": "code",
   "execution_count": 3,
   "metadata": {},
   "outputs": [],
   "source": [
    "m = rastvectpy.Map(center = [40, -100], zoom = 3)\n"
   ]
  },
  {
   "cell_type": "code",
   "execution_count": null,
   "metadata": {},
   "outputs": [],
   "source": [
    "url = \"https://nominatim.openstreetmap.org/search?format=json&q={s}\""
   ]
  },
  {
   "cell_type": "code",
   "execution_count": null,
   "metadata": {},
   "outputs": [],
   "source": [
    "m = rastvectpy.Map(center = [40, -100], zoom = 3, )\n",
    "m.add_search_control(position = 'topleft', zoom = 10)\n",
    "m.add_draw_control(position= \"topleft\")\n",
    "m.scroll_wheel_zoom=True\n",
    "m.add_layer_control()"
   ]
  },
  {
   "cell_type": "code",
   "execution_count": 4,
   "metadata": {},
   "outputs": [],
   "source": [
    "import ipyleaflet"
   ]
  },
  {
   "cell_type": "code",
   "execution_count": 5,
   "metadata": {},
   "outputs": [],
   "source": [
    "basemap_url = \"http://mt0.google.com/vt/lyrs=y&hl=en&x={x}&y={y}&z={z}\""
   ]
  },
  {
   "cell_type": "code",
   "execution_count": 8,
   "metadata": {},
   "outputs": [],
   "source": [
    "layer = ipyleaflet.TileLayer(url=basemap_url, name=\"Hybrid\", attribution=\"Google\")"
   ]
  },
  {
   "cell_type": "code",
   "execution_count": 9,
   "metadata": {},
   "outputs": [
    {
     "data": {
      "application/vnd.jupyter.widget-view+json": {
       "model_id": "61ebc4411f68499284b9b1cae78163d0",
       "version_major": 2,
       "version_minor": 0
      },
      "text/plain": [
       "Map(bottom=975.0, center=[40, -100], controls=(ZoomControl(options=['position', 'zoom_in_text', 'zoom_in_title…"
      ]
     },
     "metadata": {},
     "output_type": "display_data"
    }
   ],
   "source": [
    "m.add_layer(layer)\n",
    "m"
   ]
  },
  {
   "cell_type": "code",
   "execution_count": null,
   "metadata": {},
   "outputs": [],
   "source": [
    "m"
   ]
  },
  {
   "cell_type": "code",
   "execution_count": null,
   "metadata": {},
   "outputs": [],
   "source": [
    "from ipyleaflet import Map, basemaps, basemap_to_tiles\n",
    "\n",
    "m = Map(center=(52.204793, 360.121558), zoom=9)\n",
    "\n",
    "dark_matter_layer = basemap_to_tiles(basemaps.CartoDB.DarkMatter)\n",
    "m.add_layer(dark_matter_layer)\n",
    "m"
   ]
  },
  {
   "cell_type": "code",
   "execution_count": null,
   "metadata": {},
   "outputs": [],
   "source": [
    "import numpy as np\n",
    "import matplotlib.pyplot as plt\n",
    "import rastvectpy"
   ]
  },
  {
   "cell_type": "code",
   "execution_count": null,
   "metadata": {},
   "outputs": [],
   "source": [
    "m.add_search_control(position = 'topleft', zoom = 10, url = url)\n",
    "m.add_draw_control(position= \"topleft\")\n",
    "m.scroll_wheel_zoom=True\n",
    "m\n"
   ]
  },
  {
   "cell_type": "code",
   "execution_count": null,
   "metadata": {},
   "outputs": [],
   "source": []
  },
  {
   "cell_type": "code",
   "execution_count": null,
   "metadata": {},
   "outputs": [],
   "source": []
  },
  {
   "cell_type": "code",
   "execution_count": null,
   "metadata": {},
   "outputs": [],
   "source": [
    "raster_data = np.random.randint(0, 255, size=(100, 100))\n",
    "vector_data = (np.random.randint(0, 100, size=100), np.random.randint(0, 100, size=100))"
   ]
  },
  {
   "cell_type": "code",
   "execution_count": null,
   "metadata": {},
   "outputs": [],
   "source": [
    "rastvectpy.visualize_raster(raster_data)"
   ]
  },
  {
   "cell_type": "code",
   "execution_count": null,
   "metadata": {},
   "outputs": [],
   "source": [
    "rastvectpy.visualize_vector(vector_data)"
   ]
  },
  {
   "cell_type": "code",
   "execution_count": null,
   "metadata": {},
   "outputs": [],
   "source": [
    "# visualize_raster(np.random.randint(0, 255, size=(100, 100)))\n",
    "# visualize_vector((np.random.randint(0, 100, size=100), np.random.randint(0, 100, size=100)))"
   ]
  }
 ],
 "metadata": {
  "kernelspec": {
   "display_name": "Python 3",
   "language": "python",
   "name": "python3"
  },
  "language_info": {
   "codemirror_mode": {
    "name": "ipython",
    "version": 3
   },
   "file_extension": ".py",
   "mimetype": "text/x-python",
   "name": "python",
   "nbconvert_exporter": "python",
   "pygments_lexer": "ipython3",
   "version": "3.9.16"
  },
  "orig_nbformat": 4,
  "vscode": {
   "interpreter": {
    "hash": "3c7b9592d09c546f0dd69ec94c04ba689465a403c37896a9e594ba09223f3136"
   }
  }
 },
 "nbformat": 4,
 "nbformat_minor": 2
}
