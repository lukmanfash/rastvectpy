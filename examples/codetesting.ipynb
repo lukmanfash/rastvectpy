{
 "cells": [
  {
   "cell_type": "code",
   "execution_count": 1,
   "metadata": {},
   "outputs": [],
   "source": [
    "import numpy as np\n",
    "import matplotlib.pyplot as plt\n",
    "\n",
    "def visualize_raster(raster_data):\n",
    "    \"\"\"\n",
    "    Visualize a raster data using matplotlib.\n",
    "\n",
    "    Parameters:\n",
    "    raster_data (numpy.ndarray): A 2D array of raster data.\n",
    "\n",
    "    Returns:\n",
    "    None\n",
    "    \"\"\"\n",
    "    # Create a figure and axis object\n",
    "    fig, ax = plt.subplots()\n",
    "\n",
    "    # Set the aspect ratio\n",
    "    ax.set_aspect('equal')\n",
    "\n",
    "    # Show the raster data as an image\n",
    "    ax.imshow(raster_data, cmap='gray')\n",
    "\n",
    "    # Set the x and y axis labels\n",
    "    ax.set_xlabel('X')\n",
    "    ax.set_ylabel('Y')\n",
    "\n",
    "    # Show the plot\n",
    "    plt.show()"
   ]
  },
  {
   "cell_type": "code",
   "execution_count": 2,
   "metadata": {},
   "outputs": [],
   "source": [
    "def visualize_vector(vector_data):\n",
    "    \"\"\"\n",
    "    Visualize a vector data using matplotlib.\n",
    "\n",
    "    Parameters:\n",
    "    vector_data (tuple): A tuple of two 1D arrays representing the x and y coordinates of the vector data.\n",
    "\n",
    "    Returns:\n",
    "    None\n",
    "    \"\"\"\n",
    "    # Create a figure and axis object\n",
    "    fig, ax = plt.subplots()\n",
    "\n",
    "    # Plot the vector data\n",
    "    ax.quiver(vector_data[0], vector_data[1], color='blue', scale=1, units='xy', width=0.005, headwidth=5, headlength=7)\n",
    "\n",
    "    # Set the x and y axis limits\n",
    "    ax.set_xlim([min(vector_data[0])-1, max(vector_data[0])+1])\n",
    "    ax.set_ylim([min(vector_data[1])-1, max(vector_data[1])+1])\n",
    "\n",
    "    # Set the x and y axis labels\n",
    "    ax.set_xlabel('X')\n",
    "    ax.set_ylabel('Y')\n",
    "\n",
    "    # Show plot\n",
    "    plt.show()"
   ]
  },
  {
   "cell_type": "code",
   "execution_count": null,
   "metadata": {},
   "outputs": [],
   "source": [
    "rastvectpy.visualize_raster()\n",
    "rastvectpy.visualize_vector()"
   ]
  },
  {
   "cell_type": "code",
   "execution_count": null,
   "metadata": {},
   "outputs": [],
   "source": []
  }
 ],
 "metadata": {
  "kernelspec": {
   "display_name": "Python 3",
   "language": "python",
   "name": "python3"
  },
  "language_info": {
   "codemirror_mode": {
    "name": "ipython",
    "version": 3
   },
   "file_extension": ".py",
   "mimetype": "text/x-python",
   "name": "python",
   "nbconvert_exporter": "python",
   "pygments_lexer": "ipython3",
   "version": "3.9.16"
  },
  "orig_nbformat": 4,
  "vscode": {
   "interpreter": {
    "hash": "3c7b9592d09c546f0dd69ec94c04ba689465a403c37896a9e594ba09223f3136"
   }
  }
 },
 "nbformat": 4,
 "nbformat_minor": 2
}
