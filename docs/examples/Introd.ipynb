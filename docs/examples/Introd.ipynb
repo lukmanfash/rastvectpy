{
 "cells": [
  {
   "attachments": {},
   "cell_type": "markdown",
   "metadata": {},
   "source": [
    "[![image](https://colab.research.google.com/assets/colab-badge.svg)](https://colab.research.google.com/github/lukmanfash/rastvectpy/blob/main/docs/examples/codetesting.ipynb)"
   ]
  },
  {
   "cell_type": "code",
   "execution_count": null,
   "metadata": {},
   "outputs": [],
   "source": [
    "# Uncomment the code below in colab: \n",
    "# %pip install git+https://github.com/lukmanfash/rastvectpy.git"
   ]
  },
  {
   "cell_type": "code",
   "execution_count": 1,
   "metadata": {},
   "outputs": [
    {
     "data": {
      "application/vnd.jupyter.widget-view+json": {
       "model_id": "18ed919c2b9748de87b7da719455da5b",
       "version_major": 2,
       "version_minor": 0
      },
      "text/plain": [
       "Map(center=[40, -100], controls=(LayersControl(options=['position'], position='topright'), ZoomControl(options…"
      ]
     },
     "metadata": {},
     "output_type": "display_data"
    }
   ],
   "source": [
    "##User adding basemap (hybrid, roadmap, satellite, terrain) url.\n",
    "\n",
    "import rastvectpy\n",
    "import ipyleaflet\n",
    "m = rastvectpy.Map(center = [40, -100], zoom = 3)\n",
    "url = \"http://mt0.google.com/vt/lyrs=y&hl=en&x={x}&y={y}&z={z}\"\n",
    "layer = ipyleaflet.TileLayer(url=url, name=\"Google Satellite\", attribution=\"Google\")\n",
    "m.add_layer(layer)\n",
    "m"
   ]
  },
  {
   "cell_type": "code",
   "execution_count": null,
   "metadata": {},
   "outputs": [],
   "source": [
    "m = rastvectpy.Map(center = [40, -100], zoom = 3, )\n",
    "m.add_search_control(position = 'topleft', zoom = 10)\n",
    "m.add_draw_control(position= \"topleft\")\n",
    "m.scroll_wheel_zoom=True\n",
    "m.add_layer_control()"
   ]
  },
  {
   "cell_type": "code",
   "execution_count": null,
   "metadata": {},
   "outputs": [],
   "source": [
    "##User adding basemap name(string): hybrid, roadmap, satellite, terrain.\n",
    "\n",
    "import rastvectpy\n",
    "m = rastvectpy.Map(center = [40, -100], zoom = 3)\n",
    "m.add_basemap(\"roadmap\")\n",
    "m"
   ]
  },
  {
   "cell_type": "code",
   "execution_count": null,
   "metadata": {},
   "outputs": [],
   "source": [
    "# using the xyz service package to generate basemap as a repo of several basemaps;\n",
    "# Note to check all the map categories in xyz services, syntax is:  xyz.keys()\n",
    "# For Esri basemaps, syntax is: xyz.Esri.keys()\n",
    "# For cartoDB basemaps, syntax is: xyz.CartoDB.keys()\n",
    "# to add any of those basemaps, syntax is: xyz.Esri.WorldImagery.build_url()\n",
    "# or xyz.CartoDB.DarkMatter.build_url()\n",
    "# or m.add_basemap(\"Esri.WorldImagery\")\n",
    "# or m.add_basemap(\"CartoDB.DarkMatter\")\n",
    "#to create a function to list all the basemaps\n",
    "\n",
    "import xyzservices.providers as xyz\n",
    "import rastvectpy\n",
    "m = rastvectpy.Map(center = [40, -100], zoom = 3)\n",
    "url2= xyz.Esri.WorldImagery.build_url()\n",
    "m.add_tile_layer(url2, name=\"Esri World Imagery\")\n",
    "m\n",
    "\n",
    "\n"
   ]
  },
  {
   "cell_type": "code",
   "execution_count": null,
   "metadata": {},
   "outputs": [],
   "source": [
    "# Loading a geojson file\n",
    "#i) by adding a geojson file from a local directory/file path as geojson file or zip file\n",
    "#ii) by adding a geojson file from a url\n",
    "#iii) by providing a dictionary of geojson data\n",
    "\n",
    "# 1)\n",
    "import rastvectpy\n",
    "m = rastvectpy.Map(center = [40, -100], zoom = 3)\n",
    "m.add_geojson('data/LoudonCntyTN.geojson', name = 'Loudon County_TN')\n",
    "m\n",
    "\n",
    "# or\n",
    "m.add_shp('data/countries.zip', name = 'countries')\n",
    "# #to add customization:\n",
    "# style={\n",
    "#     'opacity': 1, 'dashArray': '9', 'fillOpacity': 0.1, 'weight': 1\n",
    "# },\n",
    "# hover_style={\n",
    "#     'color': 'white', 'dashArray': '0', 'fillOpacity': 0.5\n",
    "# },\n",
    "# style_callback=random_color\n",
    "# m.add_shp('data/countries.zip', name = 'countries', style=style)"
   ]
  },
  {
   "cell_type": "code",
   "execution_count": null,
   "metadata": {},
   "outputs": [],
   "source": []
  },
  {
   "cell_type": "code",
   "execution_count": null,
   "metadata": {},
   "outputs": [],
   "source": [
    "from ipyleaflet import Map, basemaps, basemap_to_tiles\n",
    "\n",
    "m = Map(center=(52.204793, 360.121558), zoom=9)\n",
    "\n",
    "dark_matter_layer = basemap_to_tiles(basemaps.CartoDB.DarkMatter)\n",
    "m.add_layer(dark_matter_layer)\n",
    "m"
   ]
  },
  {
   "cell_type": "code",
   "execution_count": null,
   "metadata": {},
   "outputs": [],
   "source": [
    "import numpy as np\n",
    "import matplotlib.pyplot as plt\n",
    "# import rastvectpy"
   ]
  },
  {
   "cell_type": "code",
   "execution_count": null,
   "metadata": {},
   "outputs": [],
   "source": [
    "m.add_search_control(position = 'topleft', zoom = 10, url = url)\n",
    "m.add_draw_control(position= \"topleft\")\n",
    "m.scroll_wheel_zoom=True\n",
    "m\n"
   ]
  },
  {
   "cell_type": "code",
   "execution_count": null,
   "metadata": {},
   "outputs": [],
   "source": [
    "# dropdown = widgets.Dropdown(\n",
    "#     options=['terrain', 'satellite', 'roadmap'],\n",
    "#     value='roadmap',\n",
    "#     description='Basemaps:'\n",
    "# )\n",
    "# dropdown"
   ]
  },
  {
   "cell_type": "code",
   "execution_count": null,
   "metadata": {},
   "outputs": [],
   "source": []
  },
  {
   "cell_type": "code",
   "execution_count": null,
   "metadata": {},
   "outputs": [],
   "source": [
    "raster_data = np.random.randint(0, 255, size=(100, 100))\n",
    "vector_data = (np.random.randint(0, 100, size=100), np.random.randint(0, 100, size=100))"
   ]
  },
  {
   "cell_type": "code",
   "execution_count": null,
   "metadata": {},
   "outputs": [],
   "source": [
    "# rastvectpy.visualize_raster(raster_data)"
   ]
  },
  {
   "cell_type": "code",
   "execution_count": null,
   "metadata": {},
   "outputs": [],
   "source": [
    "# rastvectpy.visualize_vector(vector_data)"
   ]
  },
  {
   "cell_type": "code",
   "execution_count": null,
   "metadata": {},
   "outputs": [],
   "source": [
    "# visualize_raster(np.random.randint(0, 255, size=(100, 100)))\n",
    "# visualize_vector((np.random.randint(0, 100, size=100), np.random.randint(0, 100, size=100)))"
   ]
  }
 ],
 "metadata": {
  "kernelspec": {
   "display_name": "Python 3",
   "language": "python",
   "name": "python3"
  },
  "language_info": {
   "codemirror_mode": {
    "name": "ipython",
    "version": 3
   },
   "file_extension": ".py",
   "mimetype": "text/x-python",
   "name": "python",
   "nbconvert_exporter": "python",
   "pygments_lexer": "ipython3",
   "version": "3.9.16"
  },
  "orig_nbformat": 4,
  "vscode": {
   "interpreter": {
    "hash": "3c7b9592d09c546f0dd69ec94c04ba689465a403c37896a9e594ba09223f3136"
   }
  }
 },
 "nbformat": 4,
 "nbformat_minor": 2
}
