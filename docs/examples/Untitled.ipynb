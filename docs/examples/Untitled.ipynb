{
 "cells": [
  {
   "cell_type": "code",
   "execution_count": 1,
   "id": "c2f6b038-ed3f-4fdd-b9c1-d5cddb51cc72",
   "metadata": {
    "tags": []
   },
   "outputs": [],
   "source": [
    "import rastvectpy\n",
    "import ipyleaflet\n",
    "from ipyleaflet import Map, basemaps, WidgetControl\n",
    "from ipywidgets import IntSlider, ColorPicker, jslink\n",
    "import ipywidgets as widgets"
   ]
  },
  {
   "cell_type": "code",
   "execution_count": 2,
   "id": "4d5aa779",
   "metadata": {},
   "outputs": [],
   "source": [
    "import rastvectpy"
   ]
  },
  {
   "cell_type": "code",
   "execution_count": 3,
   "id": "36c0dcfa-abbb-4148-bd09-568e3304e752",
   "metadata": {
    "tags": []
   },
   "outputs": [
    {
     "data": {
      "application/vnd.jupyter.widget-view+json": {
       "model_id": "6ba9136ebc2a44f09301d140ddb68756",
       "version_major": 2,
       "version_minor": 0
      },
      "text/plain": [
       "Map(center=[40, -100], controls=(LayersControl(options=['position'], position='topright'), ZoomControl(options…"
      ]
     },
     "metadata": {},
     "output_type": "display_data"
    }
   ],
   "source": [
    "m = rastvectpy.Map(center=[40, -100], zoom=4)\n",
    "m"
   ]
  },
  {
   "cell_type": "code",
   "execution_count": null,
   "id": "125cc1e6",
   "metadata": {},
   "outputs": [],
   "source": [
    "# m.add_basemap('satellite')"
   ]
  },
  {
   "cell_type": "code",
   "execution_count": null,
   "id": "c1842c8a",
   "metadata": {},
   "outputs": [],
   "source": [
    "# print(rastvectpy.basemaps.keys())"
   ]
  },
  {
   "cell_type": "code",
   "execution_count": null,
   "id": "928de899",
   "metadata": {},
   "outputs": [],
   "source": [
    "# rastvectpy.split_map(left_layer=\"ROADMAP\", right_layer=\"HYBRID\")"
   ]
  },
  {
   "cell_type": "code",
   "execution_count": 4,
   "id": "51546ba0",
   "metadata": {},
   "outputs": [],
   "source": [
    "widget_width = \"250px\"\n",
    "padding = \"0px 0px 0px 4px\"  # upper, right, bottom, left"
   ]
  },
  {
   "cell_type": "code",
   "execution_count": 5,
   "id": "2cee1e2a",
   "metadata": {},
   "outputs": [
    {
     "data": {
      "application/vnd.jupyter.widget-view+json": {
       "model_id": "be5bbffa94824ae99f74f3debed98fed",
       "version_major": 2,
       "version_minor": 0
      },
      "text/plain": [
       "Dropdown(description='Basemaps:', layout=Layout(padding='0px 0px 0px 4px', width='250px'), options=('terrain',…"
      ]
     },
     "metadata": {},
     "output_type": "display_data"
    }
   ],
   "source": [
    "dropdown = widgets.Dropdown(\n",
    "    options=['terrain', 'satellite', 'roadmap'],\n",
    "    value='terrain',\n",
    "    description='Basemaps:',\n",
    "    layout=widgets.Layout(width=widget_width, padding=padding),\n",
    "    style={\"description_width\": \"initial\"},\n",
    ")\n",
    "dropdown"
   ]
  },
  {
   "cell_type": "code",
   "execution_count": 6,
   "id": "33860b8f",
   "metadata": {},
   "outputs": [],
   "source": [
    "control = ipyleaflet.WidgetControl(widget=dropdown, Position=\"topleft\")"
   ]
  },
  {
   "cell_type": "code",
   "execution_count": 7,
   "id": "51fce73f",
   "metadata": {},
   "outputs": [],
   "source": [
    "m.add_control(control)"
   ]
  },
  {
   "cell_type": "code",
   "execution_count": null,
   "id": "164f70ca-93c2-4edf-8d77-6f91fe3d409f",
   "metadata": {
    "tags": []
   },
   "outputs": [],
   "source": [
    "# widgets.HTML(\n",
    "#     value=\"Hello <b>World</b>\",\n",
    "#     placeholder='Some HTML',\n",
    "#     description='Some HTML',\n",
    "# )"
   ]
  },
  {
   "cell_type": "code",
   "execution_count": null,
   "id": "4b957281-c1db-4bfb-b90a-76bb3857b020",
   "metadata": {
    "tags": []
   },
   "outputs": [],
   "source": [
    "# widget = widgets.HTML(\n",
    "#     value='<img src=\"https://earthengine.google.com/static/images/earth-engine-logo.png\" width=\"100\" height=\"100\">'\n",
    "# )\n",
    "# widget"
   ]
  },
  {
   "cell_type": "code",
   "execution_count": null,
   "id": "a84d7caa-c7ee-4242-9e1d-9454f13a2f6e",
   "metadata": {},
   "outputs": [],
   "source": [
    "    # def add_xy_data(\n",
    "    #     self,\n",
    "    #     in_csv,\n",
    "    #     x=\"longitude\",\n",
    "    #     y=\"latitude\",\n",
    "    #     label=None,\n",
    "    #     layer_name=\"Marker cluster\",\n",
    "    # ):\n",
    "    #     \"\"\"Adds points from a CSV file containing lat/lon information and display data on the map.\n",
    "\n",
    "    #     Args:\n",
    "    #         in_csv (str): The file path to the input CSV file.\n",
    "    #         x (str, optional): The name of the column containing longitude coordinates. Defaults to \"longitude\".\n",
    "    #         y (str, optional): The name of the column containing latitude coordinates. Defaults to \"latitude\".\n",
    "    #         label (str, optional): The name of the column containing label information to used for marker popup. Defaults to None.\n",
    "    #         layer_name (str, optional): The layer name to use. Defaults to \"Marker cluster\".\n",
    "\n",
    "    #     Raises:\n",
    "    #         FileNotFoundError: The specified input csv does not exist.\n",
    "    #         ValueError: The specified x column does not exist.\n",
    "    #         ValueError: The specified y column does not exist.\n",
    "    #         ValueError: The specified label column does not exist.\n",
    "    #     \"\"\"\n",
    "    #     import pandas as pd\n",
    "\n",
    "    #     if isinstance(in_csv, pd.DataFrame):\n",
    "    #         df = in_csv\n",
    "    #     elif not in_csv.startswith(\"http\") and (not os.path.exists(in_csv)):\n",
    "    #         raise FileNotFoundError(\"The specified input csv does not exist.\")\n",
    "    #     else:\n",
    "    #         df = pd.read_csv(in_csv)\n",
    "\n",
    "    #     col_names = df.columns.values.tolist()\n",
    "\n",
    "    #     if x not in col_names:\n",
    "    #         raise ValueError(f\"x must be one of the following: {', '.join(col_names)}\")\n",
    "\n",
    "    #     if y not in col_names:\n",
    "    #         raise ValueError(f\"y must be one of the following: {', '.join(col_names)}\")\n",
    "\n",
    "    #     if label is not None and (label not in col_names):\n",
    "    #         raise ValueError(\n",
    "    #             f\"label must be one of the following: {', '.join(col_names)}\"\n",
    "    #         )\n",
    "\n",
    "    #     self.default_style = {\"cursor\": \"wait\"}\n",
    "\n",
    "    #     points = list(zip(df[y], df[x]))\n",
    "\n",
    "    #     if label is not None:\n",
    "    #         labels = df[label]\n",
    "    #         markers = [\n",
    "    #             ipyleaflet.Marker(\n",
    "    #                 location=point,\n",
    "    #                 draggable=False,\n",
    "    #                 popup=widgets.HTML(str(labels[index])),\n",
    "    #             )\n",
    "    #             for index, point in enumerate(points)\n",
    "    #         ]\n",
    "    #     else:\n",
    "    #         markers = [\n",
    "    #             ipyleaflet.Marker(location=point, draggable=False) for point in points\n",
    "    #         ]\n",
    "\n",
    "    #     marker_cluster = ipyleaflet.MarkerCluster(markers=markers, name=layer_name)\n",
    "    #     self.add(marker_cluster)\n",
    "\n",
    "    #     self.default_style = {\"cursor\": \"default\"}\n",
    "\n",
    "    # def add_point_layer(\n",
    "    #     self, filename, popup=None, layer_name=\"Marker Cluster\", **kwargs\n",
    "    # ):\n",
    "    #     \"\"\"Adds a point layer to the map with a popup attribute.\n",
    "\n",
    "    #     Args:\n",
    "    #         filename (str): str, http url, path object or file-like object. Either the absolute or relative path to the file or URL to be opened, or any object with a read() method (such as an open file or StringIO)\n",
    "    #         popup (str | list, optional): Column name(s) to be used for popup. Defaults to None.\n",
    "    #         layer_name (str, optional): A layer name to use. Defaults to \"Marker Cluster\".\n",
    "\n",
    "    #     Raises:\n",
    "    #         ValueError: If the specified column name does not exist.\n",
    "    #         ValueError: If the specified column names do not exist.\n",
    "    #     \"\"\"\n",
    "    #     import warnings\n",
    "\n",
    "    #     warnings.filterwarnings(\"ignore\")\n",
    "    #     check_package(name=\"geopandas\", URL=\"https://geopandas.org\")\n",
    "    #     import geopandas as gpd\n",
    "    #     import fiona\n",
    "\n",
    "    #     self.default_style = {\"cursor\": \"wait\"}\n",
    "\n",
    "    #     if isinstance(filename, gpd.GeoDataFrame):\n",
    "    #         gdf = filename\n",
    "    #     else:\n",
    "    #         if not filename.startswith(\"http\"):\n",
    "    #             filename = os.path.abspath(filename)\n",
    "    #         ext = os.path.splitext(filename)[1].lower()\n",
    "    #         if ext == \".kml\":\n",
    "    #             fiona.drvsupport.supported_drivers[\"KML\"] = \"rw\"\n",
    "    #             gdf = gpd.read_file(filename, driver=\"KML\", **kwargs)\n",
    "    #         else:\n",
    "    #             gdf = gpd.read_file(filename, **kwargs)\n",
    "    #     df = gdf.to_crs(epsg=\"4326\")\n",
    "    #     col_names = df.columns.values.tolist()\n",
    "    #     if popup is not None:\n",
    "    #         if isinstance(popup, str) and (popup not in col_names):\n",
    "    #             raise ValueError(\n",
    "    #                 f\"popup must be one of the following: {', '.join(col_names)}\"\n",
    "    #             )\n",
    "    #         elif isinstance(popup, list) and (\n",
    "    #             not all(item in col_names for item in popup)\n",
    "    #         ):\n",
    "    #             raise ValueError(\n",
    "    #                 f\"All popup items must be select from: {', '.join(col_names)}\"\n",
    "    #             )\n",
    "\n",
    "    #     df[\"x\"] = df.geometry.x\n",
    "    #     df[\"y\"] = df.geometry.y\n",
    "\n",
    "    #     points = list(zip(df[\"y\"], df[\"x\"]))\n",
    "\n",
    "    #     if popup is not None:\n",
    "    #         if isinstance(popup, str):\n",
    "    #             labels = df[popup]\n",
    "    #             markers = [\n",
    "    #                 ipyleaflet.Marker(\n",
    "    #                     location=point,\n",
    "    #                     draggable=False,\n",
    "    #                     popup=widgets.HTML(str(labels[index])),\n",
    "    #                 )\n",
    "    #                 for index, point in enumerate(points)\n",
    "    #             ]\n",
    "    #         elif isinstance(popup, list):\n",
    "    #             labels = []\n",
    "    #             for i in range(len(points)):\n",
    "    #                 label = \"\"\n",
    "    #                 for item in popup:\n",
    "    #                     label = label + str(item) + \": \" + str(df[item][i]) + \"<br>\"\n",
    "    #                 labels.append(label)\n",
    "    #             df[\"popup\"] = labels\n",
    "\n",
    "    #             markers = [\n",
    "    #                 ipyleaflet.Marker(\n",
    "    #                     location=point,\n",
    "    #                     draggable=False,\n",
    "    #                     popup=widgets.HTML(labels[index]),\n",
    "    #                 )\n",
    "    #                 for index, point in enumerate(points)\n",
    "    #             ]\n",
    "\n",
    "    #     else:\n",
    "    #         markers = [\n",
    "    #             ipyleaflet.Marker(location=point, draggable=False) for point in points\n",
    "    #         ]\n",
    "\n",
    "    #     marker_cluster = ipyleaflet.MarkerCluster(markers=markers, name=layer_name)\n",
    "    #     self.add(marker_cluster)\n",
    "\n",
    "    #     self.default_style = {\"cursor\": \"default\"}\n"
   ]
  }
 ],
 "metadata": {
  "kernelspec": {
   "display_name": "Python 3 (ipykernel)",
   "language": "python",
   "name": "python3"
  },
  "language_info": {
   "codemirror_mode": {
    "name": "ipython",
    "version": 3
   },
   "file_extension": ".py",
   "mimetype": "text/x-python",
   "name": "python",
   "nbconvert_exporter": "python",
   "pygments_lexer": "ipython3",
   "version": "3.9.16"
  }
 },
 "nbformat": 4,
 "nbformat_minor": 5
}
