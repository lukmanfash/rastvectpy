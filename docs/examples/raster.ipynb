{
 "cells": [
  {
   "attachments": {},
   "cell_type": "markdown",
   "metadata": {},
   "source": [
    "[![image](https://colab.research.google.com/assets/colab-badge.svg)](https://colab.research.google.com/github/lukmanfash/rastvectpy/blob/main/docs/examples/raster.ipynb)"
   ]
  },
  {
   "attachments": {},
   "cell_type": "markdown",
   "metadata": {},
   "source": [
    "#### Visualizing raster dataset from URL"
   ]
  },
  {
   "cell_type": "code",
   "execution_count": 1,
   "metadata": {},
   "outputs": [],
   "source": [
    "import rastvectpy\n",
    "import ipyleaflet\n",
    "import ipywidgets as widgets\n",
    "from ipyleaflet import Map, basemaps, WidgetControl\n",
    "from ipywidgets import Dropdown, IntSlider, jslink"
   ]
  },
  {
   "cell_type": "code",
   "execution_count": 2,
   "metadata": {},
   "outputs": [],
   "source": [
    "m= rastvectpy.Map(center =[40, -100], zoom = 4)\n",
    "url = 'https://github.com/opengeos/data/blob/main/raster/landsat7.tif?raw=true'\n",
    "# url ='https://ims.cr.usgs.gov/browse/naip/fullres/TN/2018/201807_tennessee_naip_0x6000m_utm_cnir/34089/m_3408901_nw_16_060_20181202.jpg'\n",
    "m.add_raster(url, name='Landsat7', fit_bounds=True)"
   ]
  },
  {
   "cell_type": "code",
   "execution_count": null,
   "metadata": {},
   "outputs": [],
   "source": [
    "# m.add_raster(url, name='Landsat7', colormap='viridis', opacity=0.5)"
   ]
  },
  {
   "cell_type": "code",
   "execution_count": 3,
   "metadata": {},
   "outputs": [
    {
     "data": {
      "application/vnd.jupyter.widget-view+json": {
       "model_id": "2553ca69e8d747c4a555abc568398ecf",
       "version_major": 2,
       "version_minor": 0
      },
      "text/plain": [
       "Map(center=[37.77362148225351, -122.34097463930294], controls=(LayersControl(options=['position'], position='t…"
      ]
     },
     "metadata": {},
     "output_type": "display_data"
    }
   ],
   "source": [
    "slider = widgets.FloatSlider(description='Opacity:', min=0, max=1, value=0.1)\n",
    "widgets.jslink((slider, 'value'), (m.layers[-1], 'opacity'))\n",
    "control = WidgetControl(widget=slider, position='bottomright')\n",
    "m.add(control)\n",
    "m\n"
   ]
  }
 ],
 "metadata": {
  "kernelspec": {
   "display_name": "Python 3",
   "language": "python",
   "name": "python3"
  },
  "language_info": {
   "codemirror_mode": {
    "name": "ipython",
    "version": 3
   },
   "file_extension": ".py",
   "mimetype": "text/x-python",
   "name": "python",
   "nbconvert_exporter": "python",
   "pygments_lexer": "ipython3",
   "version": "3.9.16"
  },
  "orig_nbformat": 4
 },
 "nbformat": 4,
 "nbformat_minor": 2
}
