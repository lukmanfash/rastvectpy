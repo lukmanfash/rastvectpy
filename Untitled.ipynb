{
 "cells": [
  {
   "cell_type": "code",
   "execution_count": 2,
   "id": "17865fe8",
   "metadata": {},
   "outputs": [
    {
     "name": "stdout",
     "output_type": "stream",
     "text": [
      "Requirement already satisfied: Rastvectpy in c:\\users\\lukma\\documents\\packages\\rastvectpy (0.0.1)\n",
      "Requirement already satisfied: bqplot in c:\\users\\lukma\\miniconda3\\envs\\codenv\\lib\\site-packages (from Rastvectpy) (0.12.39)\n",
      "Requirement already satisfied: geopandas in c:\\users\\lukma\\miniconda3\\envs\\codenv\\lib\\site-packages (from Rastvectpy) (0.13.0)\n",
      "Requirement already satisfied: colour in c:\\users\\lukma\\miniconda3\\envs\\codenv\\lib\\site-packages (from Rastvectpy) (0.1.5)\n",
      "Requirement already satisfied: folium in c:\\users\\lukma\\miniconda3\\envs\\codenv\\lib\\site-packages (from Rastvectpy) (0.13.0)\n",
      "Requirement already satisfied: gdown in c:\\users\\lukma\\miniconda3\\envs\\codenv\\lib\\site-packages (from Rastvectpy) (4.7.1)\n",
      "Requirement already satisfied: geojson in c:\\users\\lukma\\miniconda3\\envs\\codenv\\lib\\site-packages (from Rastvectpy) (3.0.1)\n",
      "Requirement already satisfied: ipyevents in c:\\users\\lukma\\miniconda3\\envs\\codenv\\lib\\site-packages (from Rastvectpy) (2.0.1)\n",
      "Requirement already satisfied: ipyfilechooser>=0.6.0 in c:\\users\\lukma\\miniconda3\\envs\\codenv\\lib\\site-packages (from Rastvectpy) (0.6.0)\n",
      "Requirement already satisfied: ipyleaflet>=0.17.0 in c:\\users\\lukma\\miniconda3\\envs\\codenv\\lib\\site-packages (from Rastvectpy) (0.17.2)\n",
      "Requirement already satisfied: ipywidgets<8.0.0 in c:\\users\\lukma\\miniconda3\\envs\\codenv\\lib\\site-packages (from Rastvectpy) (7.7.5)\n",
      "Requirement already satisfied: matplotlib in c:\\users\\lukma\\miniconda3\\envs\\codenv\\lib\\site-packages (from Rastvectpy) (3.7.1)\n",
      "Requirement already satisfied: numpy in c:\\users\\lukma\\miniconda3\\envs\\codenv\\lib\\site-packages (from Rastvectpy) (1.24.3)\n",
      "Requirement already satisfied: pandas in c:\\users\\lukma\\miniconda3\\envs\\codenv\\lib\\site-packages (from Rastvectpy) (2.0.1)\n",
      "Requirement already satisfied: pyshp>=2.1.3 in c:\\users\\lukma\\miniconda3\\envs\\codenv\\lib\\site-packages (from Rastvectpy) (2.3.1)\n",
      "Requirement already satisfied: pystac-client in c:\\users\\lukma\\miniconda3\\envs\\codenv\\lib\\site-packages (from Rastvectpy) (0.6.1)\n",
      "Requirement already satisfied: python-box in c:\\users\\lukma\\miniconda3\\envs\\codenv\\lib\\site-packages (from Rastvectpy) (7.0.1)\n",
      "Requirement already satisfied: scooby in c:\\users\\lukma\\miniconda3\\envs\\codenv\\lib\\site-packages (from Rastvectpy) (0.7.2)\n",
      "Requirement already satisfied: xyzservices in c:\\users\\lukma\\miniconda3\\envs\\codenv\\lib\\site-packages (from Rastvectpy) (2023.2.0)\n",
      "Requirement already satisfied: requests in c:\\users\\lukma\\miniconda3\\envs\\codenv\\lib\\site-packages (from Rastvectpy) (2.29.0)\n",
      "Requirement already satisfied: httpx in c:\\users\\lukma\\miniconda3\\envs\\codenv\\lib\\site-packages (from Rastvectpy) (0.24.0)\n",
      "Requirement already satisfied: traittypes<3,>=0.2.1 in c:\\users\\lukma\\miniconda3\\envs\\codenv\\lib\\site-packages (from ipyleaflet>=0.17.0->Rastvectpy) (0.2.1)\n",
      "Requirement already satisfied: branca>=0.5.0 in c:\\users\\lukma\\miniconda3\\envs\\codenv\\lib\\site-packages (from ipyleaflet>=0.17.0->Rastvectpy) (0.6.0)\n",
      "Requirement already satisfied: ipython>=4.0.0 in c:\\users\\lukma\\miniconda3\\envs\\codenv\\lib\\site-packages (from ipywidgets<8.0.0->Rastvectpy) (8.13.2)\n",
      "Requirement already satisfied: traitlets>=4.3.1 in c:\\users\\lukma\\miniconda3\\envs\\codenv\\lib\\site-packages (from ipywidgets<8.0.0->Rastvectpy) (5.9.0)\n",
      "Requirement already satisfied: ipython-genutils~=0.2.0 in c:\\users\\lukma\\miniconda3\\envs\\codenv\\lib\\site-packages (from ipywidgets<8.0.0->Rastvectpy) (0.2.0)\n",
      "Requirement already satisfied: jupyterlab-widgets<3,>=1.0.0 in c:\\users\\lukma\\miniconda3\\envs\\codenv\\lib\\site-packages (from ipywidgets<8.0.0->Rastvectpy) (1.1.4)\n",
      "Requirement already satisfied: widgetsnbextension~=3.6.4 in c:\\users\\lukma\\miniconda3\\envs\\codenv\\lib\\site-packages (from ipywidgets<8.0.0->Rastvectpy) (3.6.4)\n",
      "Requirement already satisfied: ipykernel>=4.5.1 in c:\\users\\lukma\\miniconda3\\envs\\codenv\\lib\\site-packages (from ipywidgets<8.0.0->Rastvectpy) (6.23.0)\n",
      "Requirement already satisfied: tzdata>=2022.1 in c:\\users\\lukma\\miniconda3\\envs\\codenv\\lib\\site-packages (from pandas->Rastvectpy) (2023.3)\n",
      "Requirement already satisfied: python-dateutil>=2.8.2 in c:\\users\\lukma\\miniconda3\\envs\\codenv\\lib\\site-packages (from pandas->Rastvectpy) (2.8.2)\n",
      "Requirement already satisfied: pytz>=2020.1 in c:\\users\\lukma\\miniconda3\\envs\\codenv\\lib\\site-packages (from pandas->Rastvectpy) (2023.3)\n",
      "Requirement already satisfied: jinja2>=2.9 in c:\\users\\lukma\\miniconda3\\envs\\codenv\\lib\\site-packages (from folium->Rastvectpy) (3.1.2)\n",
      "Requirement already satisfied: beautifulsoup4 in c:\\users\\lukma\\miniconda3\\envs\\codenv\\lib\\site-packages (from gdown->Rastvectpy) (4.12.2)\n",
      "Requirement already satisfied: tqdm in c:\\users\\lukma\\miniconda3\\envs\\codenv\\lib\\site-packages (from gdown->Rastvectpy) (4.65.0)\n",
      "Requirement already satisfied: filelock in c:\\users\\lukma\\appdata\\roaming\\python\\python39\\site-packages (from gdown->Rastvectpy) (3.8.2)\n",
      "Requirement already satisfied: six in c:\\users\\lukma\\miniconda3\\envs\\codenv\\lib\\site-packages (from gdown->Rastvectpy) (1.16.0)\n",
      "Requirement already satisfied: shapely>=1.7.1 in c:\\users\\lukma\\miniconda3\\envs\\codenv\\lib\\site-packages (from geopandas->Rastvectpy) (2.0.1)\n",
      "Requirement already satisfied: pyproj>=3.0.1 in c:\\users\\lukma\\miniconda3\\envs\\codenv\\lib\\site-packages (from geopandas->Rastvectpy) (3.5.0)\n",
      "Requirement already satisfied: packaging in c:\\users\\lukma\\miniconda3\\envs\\codenv\\lib\\site-packages (from geopandas->Rastvectpy) (23.1)\n",
      "Requirement already satisfied: fiona>=1.8.19 in c:\\users\\lukma\\miniconda3\\envs\\codenv\\lib\\site-packages (from geopandas->Rastvectpy) (1.9.3)\n",
      "Requirement already satisfied: sniffio in c:\\users\\lukma\\miniconda3\\envs\\codenv\\lib\\site-packages (from httpx->Rastvectpy) (1.3.0)\n",
      "Requirement already satisfied: idna in c:\\users\\lukma\\miniconda3\\envs\\codenv\\lib\\site-packages (from httpx->Rastvectpy) (3.4)\n",
      "Requirement already satisfied: httpcore<0.18.0,>=0.15.0 in c:\\users\\lukma\\miniconda3\\envs\\codenv\\lib\\site-packages (from httpx->Rastvectpy) (0.17.0)\n",
      "Requirement already satisfied: certifi in c:\\users\\lukma\\miniconda3\\envs\\codenv\\lib\\site-packages (from httpx->Rastvectpy) (2023.5.7)\n",
      "Requirement already satisfied: fonttools>=4.22.0 in c:\\users\\lukma\\miniconda3\\envs\\codenv\\lib\\site-packages (from matplotlib->Rastvectpy) (4.39.3)\n",
      "Requirement already satisfied: pillow>=6.2.0 in c:\\users\\lukma\\miniconda3\\envs\\codenv\\lib\\site-packages (from matplotlib->Rastvectpy) (9.5.0)\n",
      "Requirement already satisfied: importlib-resources>=3.2.0 in c:\\users\\lukma\\miniconda3\\envs\\codenv\\lib\\site-packages (from matplotlib->Rastvectpy) (5.12.0)\n",
      "Requirement already satisfied: pyparsing>=2.3.1 in c:\\users\\lukma\\miniconda3\\envs\\codenv\\lib\\site-packages (from matplotlib->Rastvectpy) (3.0.9)\n",
      "Requirement already satisfied: cycler>=0.10 in c:\\users\\lukma\\miniconda3\\envs\\codenv\\lib\\site-packages (from matplotlib->Rastvectpy) (0.11.0)\n",
      "Requirement already satisfied: contourpy>=1.0.1 in c:\\users\\lukma\\miniconda3\\envs\\codenv\\lib\\site-packages (from matplotlib->Rastvectpy) (1.0.7)\n",
      "Requirement already satisfied: kiwisolver>=1.0.1 in c:\\users\\lukma\\miniconda3\\envs\\codenv\\lib\\site-packages (from matplotlib->Rastvectpy) (1.4.4)\n",
      "Requirement already satisfied: pystac>=1.7.0 in c:\\users\\lukma\\miniconda3\\envs\\codenv\\lib\\site-packages (from pystac-client->Rastvectpy) (1.7.3)\n",
      "Requirement already satisfied: charset-normalizer<4,>=2 in c:\\users\\lukma\\miniconda3\\envs\\codenv\\lib\\site-packages (from requests->Rastvectpy) (3.1.0)\n",
      "Requirement already satisfied: urllib3<1.27,>=1.21.1 in c:\\users\\lukma\\miniconda3\\envs\\codenv\\lib\\site-packages (from requests->Rastvectpy) (1.26.15)\n",
      "Requirement already satisfied: munch>=2.3.2 in c:\\users\\lukma\\miniconda3\\envs\\codenv\\lib\\site-packages (from fiona>=1.8.19->geopandas->Rastvectpy) (2.5.0)\n",
      "Requirement already satisfied: click-plugins>=1.0 in c:\\users\\lukma\\miniconda3\\envs\\codenv\\lib\\site-packages (from fiona>=1.8.19->geopandas->Rastvectpy) (1.1.1)\n",
      "Requirement already satisfied: attrs>=19.2.0 in c:\\users\\lukma\\miniconda3\\envs\\codenv\\lib\\site-packages (from fiona>=1.8.19->geopandas->Rastvectpy) (23.1.0)\n",
      "Requirement already satisfied: cligj>=0.5 in c:\\users\\lukma\\miniconda3\\envs\\codenv\\lib\\site-packages (from fiona>=1.8.19->geopandas->Rastvectpy) (0.7.2)\n",
      "Requirement already satisfied: importlib-metadata in c:\\users\\lukma\\miniconda3\\envs\\codenv\\lib\\site-packages (from fiona>=1.8.19->geopandas->Rastvectpy) (6.6.0)\n",
      "Requirement already satisfied: click~=8.0 in c:\\users\\lukma\\miniconda3\\envs\\codenv\\lib\\site-packages (from fiona>=1.8.19->geopandas->Rastvectpy) (8.1.3)\n",
      "Requirement already satisfied: anyio<5.0,>=3.0 in c:\\users\\lukma\\miniconda3\\envs\\codenv\\lib\\site-packages (from httpcore<0.18.0,>=0.15.0->httpx->Rastvectpy) (3.6.2)\n",
      "Requirement already satisfied: h11<0.15,>=0.13 in c:\\users\\lukma\\miniconda3\\envs\\codenv\\lib\\site-packages (from httpcore<0.18.0,>=0.15.0->httpx->Rastvectpy) (0.14.0)\n",
      "Requirement already satisfied: zipp>=3.1.0 in c:\\users\\lukma\\miniconda3\\envs\\codenv\\lib\\site-packages (from importlib-resources>=3.2.0->matplotlib->Rastvectpy) (3.15.0)\n",
      "Requirement already satisfied: pyzmq>=20 in c:\\users\\lukma\\miniconda3\\envs\\codenv\\lib\\site-packages (from ipykernel>=4.5.1->ipywidgets<8.0.0->Rastvectpy) (25.0.2)\n",
      "Requirement already satisfied: jupyter-client>=6.1.12 in c:\\users\\lukma\\miniconda3\\envs\\codenv\\lib\\site-packages (from ipykernel>=4.5.1->ipywidgets<8.0.0->Rastvectpy) (8.2.0)\n",
      "Requirement already satisfied: debugpy>=1.6.5 in c:\\users\\lukma\\miniconda3\\envs\\codenv\\lib\\site-packages (from ipykernel>=4.5.1->ipywidgets<8.0.0->Rastvectpy) (1.6.7)\n",
      "Requirement already satisfied: nest-asyncio in c:\\users\\lukma\\miniconda3\\envs\\codenv\\lib\\site-packages (from ipykernel>=4.5.1->ipywidgets<8.0.0->Rastvectpy) (1.5.6)\n",
      "Requirement already satisfied: matplotlib-inline>=0.1 in c:\\users\\lukma\\miniconda3\\envs\\codenv\\lib\\site-packages (from ipykernel>=4.5.1->ipywidgets<8.0.0->Rastvectpy) (0.1.6)\n",
      "Requirement already satisfied: psutil in c:\\users\\lukma\\miniconda3\\envs\\codenv\\lib\\site-packages (from ipykernel>=4.5.1->ipywidgets<8.0.0->Rastvectpy) (5.9.5)\n",
      "Requirement already satisfied: tornado>=6.1 in c:\\users\\lukma\\miniconda3\\envs\\codenv\\lib\\site-packages (from ipykernel>=4.5.1->ipywidgets<8.0.0->Rastvectpy) (6.3.1)\n",
      "Requirement already satisfied: comm>=0.1.1 in c:\\users\\lukma\\miniconda3\\envs\\codenv\\lib\\site-packages (from ipykernel>=4.5.1->ipywidgets<8.0.0->Rastvectpy) (0.1.3)\n",
      "Requirement already satisfied: jupyter-core!=5.0.*,>=4.12 in c:\\users\\lukma\\miniconda3\\envs\\codenv\\lib\\site-packages (from ipykernel>=4.5.1->ipywidgets<8.0.0->Rastvectpy) (5.3.0)\n",
      "Requirement already satisfied: typing-extensions in c:\\users\\lukma\\miniconda3\\envs\\codenv\\lib\\site-packages (from ipython>=4.0.0->ipywidgets<8.0.0->Rastvectpy) (4.5.0)\n",
      "Requirement already satisfied: decorator in c:\\users\\lukma\\miniconda3\\envs\\codenv\\lib\\site-packages (from ipython>=4.0.0->ipywidgets<8.0.0->Rastvectpy) (5.1.1)\n",
      "Requirement already satisfied: stack-data in c:\\users\\lukma\\miniconda3\\envs\\codenv\\lib\\site-packages (from ipython>=4.0.0->ipywidgets<8.0.0->Rastvectpy) (0.6.2)\n",
      "Requirement already satisfied: pygments>=2.4.0 in c:\\users\\lukma\\miniconda3\\envs\\codenv\\lib\\site-packages (from ipython>=4.0.0->ipywidgets<8.0.0->Rastvectpy) (2.15.1)\n",
      "Requirement already satisfied: pickleshare in c:\\users\\lukma\\miniconda3\\envs\\codenv\\lib\\site-packages (from ipython>=4.0.0->ipywidgets<8.0.0->Rastvectpy) (0.7.5)\n",
      "Requirement already satisfied: colorama in c:\\users\\lukma\\miniconda3\\envs\\codenv\\lib\\site-packages (from ipython>=4.0.0->ipywidgets<8.0.0->Rastvectpy) (0.4.6)\n",
      "Requirement already satisfied: backcall in c:\\users\\lukma\\miniconda3\\envs\\codenv\\lib\\site-packages (from ipython>=4.0.0->ipywidgets<8.0.0->Rastvectpy) (0.2.0)\n",
      "Requirement already satisfied: prompt-toolkit!=3.0.37,<3.1.0,>=3.0.30 in c:\\users\\lukma\\miniconda3\\envs\\codenv\\lib\\site-packages (from ipython>=4.0.0->ipywidgets<8.0.0->Rastvectpy) (3.0.38)\n",
      "Requirement already satisfied: jedi>=0.16 in c:\\users\\lukma\\miniconda3\\envs\\codenv\\lib\\site-packages (from ipython>=4.0.0->ipywidgets<8.0.0->Rastvectpy) (0.18.2)\n",
      "Requirement already satisfied: MarkupSafe>=2.0 in c:\\users\\lukma\\miniconda3\\envs\\codenv\\lib\\site-packages (from jinja2>=2.9->folium->Rastvectpy) (2.1.2)\n",
      "Requirement already satisfied: notebook>=4.4.1 in c:\\users\\lukma\\miniconda3\\envs\\codenv\\lib\\site-packages (from widgetsnbextension~=3.6.4->ipywidgets<8.0.0->Rastvectpy) (6.5.4)\n",
      "Requirement already satisfied: soupsieve>1.2 in c:\\users\\lukma\\miniconda3\\envs\\codenv\\lib\\site-packages (from beautifulsoup4->gdown->Rastvectpy) (2.4.1)\n",
      "Requirement already satisfied: PySocks!=1.5.7,>=1.5.6 in c:\\users\\lukma\\miniconda3\\envs\\codenv\\lib\\site-packages (from requests->Rastvectpy) (1.7.1)\n",
      "Requirement already satisfied: parso<0.9.0,>=0.8.0 in c:\\users\\lukma\\miniconda3\\envs\\codenv\\lib\\site-packages (from jedi>=0.16->ipython>=4.0.0->ipywidgets<8.0.0->Rastvectpy) (0.8.3)\n",
      "Requirement already satisfied: platformdirs>=2.5 in c:\\users\\lukma\\appdata\\roaming\\python\\python39\\site-packages (from jupyter-core!=5.0.*,>=4.12->ipykernel>=4.5.1->ipywidgets<8.0.0->Rastvectpy) (2.6.0)\n",
      "Requirement already satisfied: pywin32>=300 in c:\\users\\lukma\\miniconda3\\envs\\codenv\\lib\\site-packages (from jupyter-core!=5.0.*,>=4.12->ipykernel>=4.5.1->ipywidgets<8.0.0->Rastvectpy) (306)\n",
      "Requirement already satisfied: terminado>=0.8.3 in c:\\users\\lukma\\miniconda3\\envs\\codenv\\lib\\site-packages (from notebook>=4.4.1->widgetsnbextension~=3.6.4->ipywidgets<8.0.0->Rastvectpy) (0.17.1)\n",
      "Requirement already satisfied: nbclassic>=0.4.7 in c:\\users\\lukma\\miniconda3\\envs\\codenv\\lib\\site-packages (from notebook>=4.4.1->widgetsnbextension~=3.6.4->ipywidgets<8.0.0->Rastvectpy) (1.0.0)\n",
      "Requirement already satisfied: nbformat in c:\\users\\lukma\\miniconda3\\envs\\codenv\\lib\\site-packages (from notebook>=4.4.1->widgetsnbextension~=3.6.4->ipywidgets<8.0.0->Rastvectpy) (5.8.0)\n",
      "Requirement already satisfied: nbconvert>=5 in c:\\users\\lukma\\miniconda3\\envs\\codenv\\lib\\site-packages (from notebook>=4.4.1->widgetsnbextension~=3.6.4->ipywidgets<8.0.0->Rastvectpy) (7.4.0)\n",
      "Requirement already satisfied: Send2Trash>=1.8.0 in c:\\users\\lukma\\miniconda3\\envs\\codenv\\lib\\site-packages (from notebook>=4.4.1->widgetsnbextension~=3.6.4->ipywidgets<8.0.0->Rastvectpy) (1.8.2)\n",
      "Requirement already satisfied: prometheus-client in c:\\users\\lukma\\miniconda3\\envs\\codenv\\lib\\site-packages (from notebook>=4.4.1->widgetsnbextension~=3.6.4->ipywidgets<8.0.0->Rastvectpy) (0.16.0)\n",
      "Requirement already satisfied: argon2-cffi in c:\\users\\lukma\\miniconda3\\envs\\codenv\\lib\\site-packages (from notebook>=4.4.1->widgetsnbextension~=3.6.4->ipywidgets<8.0.0->Rastvectpy) (21.3.0)\n",
      "Requirement already satisfied: wcwidth in c:\\users\\lukma\\miniconda3\\envs\\codenv\\lib\\site-packages (from prompt-toolkit!=3.0.37,<3.1.0,>=3.0.30->ipython>=4.0.0->ipywidgets<8.0.0->Rastvectpy) (0.2.6)\n",
      "Requirement already satisfied: pure-eval in c:\\users\\lukma\\miniconda3\\envs\\codenv\\lib\\site-packages (from stack-data->ipython>=4.0.0->ipywidgets<8.0.0->Rastvectpy) (0.2.2)\n",
      "Requirement already satisfied: executing>=1.2.0 in c:\\users\\lukma\\miniconda3\\envs\\codenv\\lib\\site-packages (from stack-data->ipython>=4.0.0->ipywidgets<8.0.0->Rastvectpy) (1.2.0)\n",
      "Requirement already satisfied: asttokens>=2.1.0 in c:\\users\\lukma\\miniconda3\\envs\\codenv\\lib\\site-packages (from stack-data->ipython>=4.0.0->ipywidgets<8.0.0->Rastvectpy) (2.2.1)\n",
      "Requirement already satisfied: notebook-shim>=0.2.3 in c:\\users\\lukma\\miniconda3\\envs\\codenv\\lib\\site-packages (from nbclassic>=0.4.7->notebook>=4.4.1->widgetsnbextension~=3.6.4->ipywidgets<8.0.0->Rastvectpy) (0.2.3)\n",
      "Requirement already satisfied: jupyter-server>=1.8 in c:\\users\\lukma\\miniconda3\\envs\\codenv\\lib\\site-packages (from nbclassic>=0.4.7->notebook>=4.4.1->widgetsnbextension~=3.6.4->ipywidgets<8.0.0->Rastvectpy) (2.5.0)\n",
      "Requirement already satisfied: mistune<3,>=2.0.3 in c:\\users\\lukma\\miniconda3\\envs\\codenv\\lib\\site-packages (from nbconvert>=5->notebook>=4.4.1->widgetsnbextension~=3.6.4->ipywidgets<8.0.0->Rastvectpy) (2.0.5)\n",
      "Requirement already satisfied: defusedxml in c:\\users\\lukma\\miniconda3\\envs\\codenv\\lib\\site-packages (from nbconvert>=5->notebook>=4.4.1->widgetsnbextension~=3.6.4->ipywidgets<8.0.0->Rastvectpy) (0.7.1)\n",
      "Requirement already satisfied: bleach in c:\\users\\lukma\\miniconda3\\envs\\codenv\\lib\\site-packages (from nbconvert>=5->notebook>=4.4.1->widgetsnbextension~=3.6.4->ipywidgets<8.0.0->Rastvectpy) (6.0.0)\n",
      "Requirement already satisfied: nbclient>=0.5.0 in c:\\users\\lukma\\miniconda3\\envs\\codenv\\lib\\site-packages (from nbconvert>=5->notebook>=4.4.1->widgetsnbextension~=3.6.4->ipywidgets<8.0.0->Rastvectpy) (0.7.4)\n",
      "Requirement already satisfied: jupyterlab-pygments in c:\\users\\lukma\\miniconda3\\envs\\codenv\\lib\\site-packages (from nbconvert>=5->notebook>=4.4.1->widgetsnbextension~=3.6.4->ipywidgets<8.0.0->Rastvectpy) (0.2.2)\n",
      "Requirement already satisfied: tinycss2 in c:\\users\\lukma\\miniconda3\\envs\\codenv\\lib\\site-packages (from nbconvert>=5->notebook>=4.4.1->widgetsnbextension~=3.6.4->ipywidgets<8.0.0->Rastvectpy) (1.2.1)\n",
      "Requirement already satisfied: pandocfilters>=1.4.1 in c:\\users\\lukma\\miniconda3\\envs\\codenv\\lib\\site-packages (from nbconvert>=5->notebook>=4.4.1->widgetsnbextension~=3.6.4->ipywidgets<8.0.0->Rastvectpy) (1.5.0)\n",
      "Requirement already satisfied: fastjsonschema in c:\\users\\lukma\\miniconda3\\envs\\codenv\\lib\\site-packages (from nbformat->notebook>=4.4.1->widgetsnbextension~=3.6.4->ipywidgets<8.0.0->Rastvectpy) (2.16.3)\n",
      "Requirement already satisfied: jsonschema>=2.6 in c:\\users\\lukma\\miniconda3\\envs\\codenv\\lib\\site-packages (from nbformat->notebook>=4.4.1->widgetsnbextension~=3.6.4->ipywidgets<8.0.0->Rastvectpy) (4.17.3)\n",
      "Requirement already satisfied: pywinpty>=1.1.0 in c:\\users\\lukma\\miniconda3\\envs\\codenv\\lib\\site-packages (from terminado>=0.8.3->notebook>=4.4.1->widgetsnbextension~=3.6.4->ipywidgets<8.0.0->Rastvectpy) (2.0.10)\n",
      "Requirement already satisfied: argon2-cffi-bindings in c:\\users\\lukma\\miniconda3\\envs\\codenv\\lib\\site-packages (from argon2-cffi->notebook>=4.4.1->widgetsnbextension~=3.6.4->ipywidgets<8.0.0->Rastvectpy) (21.2.0)\n",
      "Requirement already satisfied: pyrsistent!=0.17.0,!=0.17.1,!=0.17.2,>=0.14.0 in c:\\users\\lukma\\miniconda3\\envs\\codenv\\lib\\site-packages (from jsonschema>=2.6->nbformat->notebook>=4.4.1->widgetsnbextension~=3.6.4->ipywidgets<8.0.0->Rastvectpy) (0.19.3)\n",
      "Requirement already satisfied: jupyter-server-terminals in c:\\users\\lukma\\miniconda3\\envs\\codenv\\lib\\site-packages (from jupyter-server>=1.8->nbclassic>=0.4.7->notebook>=4.4.1->widgetsnbextension~=3.6.4->ipywidgets<8.0.0->Rastvectpy) (0.4.4)\n",
      "Requirement already satisfied: websocket-client in c:\\users\\lukma\\miniconda3\\envs\\codenv\\lib\\site-packages (from jupyter-server>=1.8->nbclassic>=0.4.7->notebook>=4.4.1->widgetsnbextension~=3.6.4->ipywidgets<8.0.0->Rastvectpy) (1.5.1)\n",
      "Requirement already satisfied: jupyter-events>=0.4.0 in c:\\users\\lukma\\miniconda3\\envs\\codenv\\lib\\site-packages (from jupyter-server>=1.8->nbclassic>=0.4.7->notebook>=4.4.1->widgetsnbextension~=3.6.4->ipywidgets<8.0.0->Rastvectpy) (0.6.3)\n",
      "Requirement already satisfied: cffi>=1.0.1 in c:\\users\\lukma\\miniconda3\\envs\\codenv\\lib\\site-packages (from argon2-cffi-bindings->argon2-cffi->notebook>=4.4.1->widgetsnbextension~=3.6.4->ipywidgets<8.0.0->Rastvectpy) (1.15.1)\n",
      "Requirement already satisfied: webencodings in c:\\users\\lukma\\miniconda3\\envs\\codenv\\lib\\site-packages (from bleach->nbconvert>=5->notebook>=4.4.1->widgetsnbextension~=3.6.4->ipywidgets<8.0.0->Rastvectpy) (0.5.1)\n",
      "Requirement already satisfied: pycparser in c:\\users\\lukma\\miniconda3\\envs\\codenv\\lib\\site-packages (from cffi>=1.0.1->argon2-cffi-bindings->argon2-cffi->notebook>=4.4.1->widgetsnbextension~=3.6.4->ipywidgets<8.0.0->Rastvectpy) (2.21)\n",
      "Requirement already satisfied: python-json-logger>=2.0.4 in c:\\users\\lukma\\miniconda3\\envs\\codenv\\lib\\site-packages (from jupyter-events>=0.4.0->jupyter-server>=1.8->nbclassic>=0.4.7->notebook>=4.4.1->widgetsnbextension~=3.6.4->ipywidgets<8.0.0->Rastvectpy) (2.0.7)\n",
      "Requirement already satisfied: rfc3339-validator in c:\\users\\lukma\\miniconda3\\envs\\codenv\\lib\\site-packages (from jupyter-events>=0.4.0->jupyter-server>=1.8->nbclassic>=0.4.7->notebook>=4.4.1->widgetsnbextension~=3.6.4->ipywidgets<8.0.0->Rastvectpy) (0.1.4)\n",
      "Requirement already satisfied: pyyaml>=5.3 in c:\\users\\lukma\\miniconda3\\envs\\codenv\\lib\\site-packages (from jupyter-events>=0.4.0->jupyter-server>=1.8->nbclassic>=0.4.7->notebook>=4.4.1->widgetsnbextension~=3.6.4->ipywidgets<8.0.0->Rastvectpy) (6.0)\n",
      "Requirement already satisfied: rfc3986-validator>=0.1.1 in c:\\users\\lukma\\miniconda3\\envs\\codenv\\lib\\site-packages (from jupyter-events>=0.4.0->jupyter-server>=1.8->nbclassic>=0.4.7->notebook>=4.4.1->widgetsnbextension~=3.6.4->ipywidgets<8.0.0->Rastvectpy) (0.1.1)\n",
      "Requirement already satisfied: webcolors>=1.11 in c:\\users\\lukma\\miniconda3\\envs\\codenv\\lib\\site-packages (from jsonschema>=2.6->nbformat->notebook>=4.4.1->widgetsnbextension~=3.6.4->ipywidgets<8.0.0->Rastvectpy) (1.13)\n",
      "Requirement already satisfied: uri-template in c:\\users\\lukma\\miniconda3\\envs\\codenv\\lib\\site-packages (from jsonschema>=2.6->nbformat->notebook>=4.4.1->widgetsnbextension~=3.6.4->ipywidgets<8.0.0->Rastvectpy) (1.2.0)\n",
      "Requirement already satisfied: jsonpointer>1.13 in c:\\users\\lukma\\miniconda3\\envs\\codenv\\lib\\site-packages (from jsonschema>=2.6->nbformat->notebook>=4.4.1->widgetsnbextension~=3.6.4->ipywidgets<8.0.0->Rastvectpy) (2.0)\n",
      "Requirement already satisfied: fqdn in c:\\users\\lukma\\miniconda3\\envs\\codenv\\lib\\site-packages (from jsonschema>=2.6->nbformat->notebook>=4.4.1->widgetsnbextension~=3.6.4->ipywidgets<8.0.0->Rastvectpy) (1.5.1)\n",
      "Requirement already satisfied: isoduration in c:\\users\\lukma\\miniconda3\\envs\\codenv\\lib\\site-packages (from jsonschema>=2.6->nbformat->notebook>=4.4.1->widgetsnbextension~=3.6.4->ipywidgets<8.0.0->Rastvectpy) (20.11.0)\n",
      "Requirement already satisfied: arrow>=0.15.0 in c:\\users\\lukma\\miniconda3\\envs\\codenv\\lib\\site-packages (from isoduration->jsonschema>=2.6->nbformat->notebook>=4.4.1->widgetsnbextension~=3.6.4->ipywidgets<8.0.0->Rastvectpy) (1.2.3)\n"
     ]
    }
   ],
   "source": [
    "! pip install Rastvectpy"
   ]
  },
  {
   "cell_type": "code",
   "execution_count": 3,
   "id": "b28c4b53",
   "metadata": {
    "scrolled": true
   },
   "outputs": [
    {
     "ename": "ModuleNotFoundError",
     "evalue": "No module named 'Rastvectpy'",
     "output_type": "error",
     "traceback": [
      "\u001b[1;31m---------------------------------------------------------------------------\u001b[0m",
      "\u001b[1;31mModuleNotFoundError\u001b[0m                       Traceback (most recent call last)",
      "Cell \u001b[1;32mIn[3], line 1\u001b[0m\n\u001b[1;32m----> 1\u001b[0m \u001b[38;5;28;01mimport\u001b[39;00m \u001b[38;5;21;01mRastvectpy\u001b[39;00m\n",
      "\u001b[1;31mModuleNotFoundError\u001b[0m: No module named 'Rastvectpy'"
     ]
    }
   ],
   "source": [
    "import Rastvectpy"
   ]
  },
  {
   "cell_type": "code",
   "execution_count": null,
   "id": "1bff3a31",
   "metadata": {},
   "outputs": [],
   "source": []
  },
  {
   "cell_type": "code",
   "execution_count": 1,
   "id": "ab9c0edd",
   "metadata": {},
   "outputs": [],
   "source": [
    "import os\n",
    "from leafmap import leafmap"
   ]
  },
  {
   "cell_type": "code",
   "execution_count": 2,
   "id": "06669da4",
   "metadata": {},
   "outputs": [
    {
     "data": {
      "application/vnd.jupyter.widget-view+json": {
       "model_id": "57bf39154b764c688fa4e100dd924d4c",
       "version_major": 2,
       "version_minor": 0
      },
      "text/plain": [
       "Map(center=[25, -115], controls=(ZoomControl(options=['position', 'zoom_in_text', 'zoom_in_title', 'zoom_out_t…"
      ]
     },
     "metadata": {},
     "output_type": "display_data"
    }
   ],
   "source": [
    "m = leafmap.Map(center=(25, -115), zoom=4)\n",
    "\n",
    "image = leafmap.ImageOverlay(\n",
    "    url=\"https://i.imgur.com/06Q1fSz.png\", bounds=((13, -130), (32, -100))\n",
    ")\n",
    "\n",
    "m.add_layer(image)\n",
    "m"
   ]
  },
  {
   "cell_type": "code",
   "execution_count": null,
   "id": "18da7d0b",
   "metadata": {},
   "outputs": [],
   "source": []
  }
 ],
 "metadata": {
  "kernelspec": {
   "display_name": "Python 3 (ipykernel)",
   "language": "python",
   "name": "python3"
  },
  "language_info": {
   "codemirror_mode": {
    "name": "ipython",
    "version": 3
   },
   "file_extension": ".py",
   "mimetype": "text/x-python",
   "name": "python",
   "nbconvert_exporter": "python",
   "pygments_lexer": "ipython3",
   "version": "3.9.16"
  }
 },
 "nbformat": 4,
 "nbformat_minor": 5
}
