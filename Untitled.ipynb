{
 "cells": [
  {
   "cell_type": "code",
   "execution_count": null,
   "id": "019f8cbb",
   "metadata": {},
   "outputs": [],
   "source": []
  },
  {
   "cell_type": "code",
   "execution_count": 1,
   "id": "439f0dcb",
   "metadata": {},
   "outputs": [],
   "source": [
    "import os\n",
    "from leafmap import leafmap"
   ]
  },
  {
   "cell_type": "code",
   "execution_count": 2,
   "id": "e4650172",
   "metadata": {},
   "outputs": [
    {
     "data": {
      "application/vnd.jupyter.widget-view+json": {
       "model_id": "57bf39154b764c688fa4e100dd924d4c",
       "version_major": 2,
       "version_minor": 0
      },
      "text/plain": [
       "Map(center=[25, -115], controls=(ZoomControl(options=['position', 'zoom_in_text', 'zoom_in_title', 'zoom_out_t…"
      ]
     },
     "metadata": {},
     "output_type": "display_data"
    }
   ],
   "source": [
    "m = leafmap.Map(center=(25, -115), zoom=4)\n",
    "\n",
    "image = leafmap.ImageOverlay(\n",
    "    url=\"https://i.imgur.com/06Q1fSz.png\", bounds=((13, -130), (32, -100))\n",
    ")\n",
    "\n",
    "m.add_layer(image)\n",
    "m"
   ]
  },
  {
   "cell_type": "code",
   "execution_count": null,
   "id": "6d096651",
   "metadata": {},
   "outputs": [],
   "source": []
  }
 ],
 "metadata": {
  "kernelspec": {
   "display_name": "Python 3 (ipykernel)",
   "language": "python",
   "name": "python3"
  },
  "language_info": {
   "codemirror_mode": {
    "name": "ipython",
    "version": 3
   },
   "file_extension": ".py",
   "mimetype": "text/x-python",
   "name": "python",
   "nbconvert_exporter": "python",
   "pygments_lexer": "ipython3",
   "version": "3.9.16"
  }
 },
 "nbformat": 4,
 "nbformat_minor": 5
}
